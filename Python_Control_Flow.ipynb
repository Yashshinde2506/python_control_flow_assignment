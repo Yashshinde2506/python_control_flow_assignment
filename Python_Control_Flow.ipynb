{
 "cells": [
  {
   "cell_type": "markdown",
   "id": "f38737c9",
   "metadata": {},
   "source": [
    "# Basic If-Else Statements:"
   ]
  },
  {
   "cell_type": "markdown",
   "id": "daae9b64",
   "metadata": {},
   "source": [
    "1. Write a Python program to check if a given number is positive or negative."
   ]
  },
  {
   "cell_type": "code",
   "execution_count": 2,
   "id": "89af147c",
   "metadata": {},
   "outputs": [
    {
     "name": "stdout",
     "output_type": "stream",
     "text": [
      "Enter a number: -5\n",
      "The number is Negative.\n"
     ]
    }
   ],
   "source": [
    "def check_positive_negative(number):\n",
    "    if number > 0:\n",
    "        return \"Positive\"\n",
    "    elif number < 0:\n",
    "        return \"Negative\"\n",
    "    else:\n",
    "        return \"Zero\"\n",
    "\n",
    "user_number = float(input(\"Enter a number: \"))\n",
    "result = check_positive_negative(user_number)\n",
    "print(f\"The number is {result}.\")"
   ]
  },
  {
   "cell_type": "markdown",
   "id": "231166d3",
   "metadata": {},
   "source": [
    "2. Create a program that determines if a person is eligible to vote based on their age."
   ]
  },
  {
   "cell_type": "code",
   "execution_count": 3,
   "id": "34876718",
   "metadata": {},
   "outputs": [
    {
     "name": "stdout",
     "output_type": "stream",
     "text": [
      "You are eligible to vote.\n"
     ]
    }
   ],
   "source": [
    "def check_voting_eligibility(age):\n",
    "    if age >= 18:\n",
    "        return \"You are eligible to vote.\"\n",
    "    else:\n",
    "        return \"You are not yet eligible to vote.\"\n",
    "\n",
    "user_age = 21\n",
    "result = check_voting_eligibility(user_age)\n",
    "print(result)"
   ]
  },
  {
   "cell_type": "markdown",
   "id": "46fd0119",
   "metadata": {},
   "source": [
    "3. Develop a program to find the maximum of two numbers using if-else statements."
   ]
  },
  {
   "cell_type": "code",
   "execution_count": 4,
   "id": "da1b67b3",
   "metadata": {},
   "outputs": [
    {
     "name": "stdout",
     "output_type": "stream",
     "text": [
      "Enter the first number: 45\n",
      "Enter the second number: 65\n",
      "The maximum number is: 65.0\n"
     ]
    }
   ],
   "source": [
    "def find_maximum(num1, num2):\n",
    "    if num1 > num2:\n",
    "        return num1\n",
    "    else:\n",
    "        return num2\n",
    "\n",
    "# Example Usage\n",
    "first_number = float(input(\"Enter the first number: \"))\n",
    "second_number = float(input(\"Enter the second number: \"))\n",
    "\n",
    "maximum = find_maximum(first_number, second_number)\n",
    "print(f\"The maximum number is: {maximum}\")\n"
   ]
  },
  {
   "cell_type": "markdown",
   "id": "0d7e400c",
   "metadata": {},
   "source": [
    "4. Write a Python script to classify a given year as a leap year or not."
   ]
  },
  {
   "cell_type": "code",
   "execution_count": 5,
   "id": "8ccbcd88",
   "metadata": {},
   "outputs": [
    {
     "name": "stdout",
     "output_type": "stream",
     "text": [
      "Enter a year: 2002\n",
      "2002 is not a leap year.\n"
     ]
    }
   ],
   "source": [
    "def is_leap_year(year):\n",
    "    if (year % 4 == 0 and year % 100 != 0) or (year % 400 == 0):\n",
    "        return True\n",
    "    else:\n",
    "        return False\n",
    "\n",
    "# Example Usage\n",
    "user_year = int(input(\"Enter a year: \"))\n",
    "\n",
    "if is_leap_year(user_year):\n",
    "    print(f\"{user_year} is a leap year.\")\n",
    "else:\n",
    "    print(f\"{user_year} is not a leap year.\")\n"
   ]
  },
  {
   "cell_type": "markdown",
   "id": "2f4e08b9",
   "metadata": {},
   "source": [
    "5. Create a program that checks whether a character is a vowel or a consonant."
   ]
  },
  {
   "cell_type": "code",
   "execution_count": 6,
   "id": "3a9c5961",
   "metadata": {},
   "outputs": [
    {
     "name": "stdout",
     "output_type": "stream",
     "text": [
      "Enter a character: yash\n",
      "yash is a consonant.\n"
     ]
    }
   ],
   "source": [
    "def check_vowel_or_consonant(char):\n",
    "    vowels = 'aeiouAEIOU'\n",
    "    if char.isalpha():\n",
    "        if char in vowels:\n",
    "            return f\"{char} is a vowel.\"\n",
    "        else:\n",
    "            return f\"{char} is a consonant.\"\n",
    "    else:\n",
    "        return f\"{char} is not a valid alphabet character.\"\n",
    "\n",
    "# Example Usage\n",
    "user_char = input(\"Enter a character: \")\n",
    "\n",
    "result = check_vowel_or_consonant(user_char)\n",
    "print(result)\n"
   ]
  },
  {
   "cell_type": "markdown",
   "id": "0ad54a68",
   "metadata": {},
   "source": [
    "6. Implement a program to determine whether a given number is even or odd."
   ]
  },
  {
   "cell_type": "code",
   "execution_count": 7,
   "id": "da1b6035",
   "metadata": {},
   "outputs": [
    {
     "name": "stdout",
     "output_type": "stream",
     "text": [
      "Enter a number: 56\n",
      "56 is even.\n"
     ]
    }
   ],
   "source": [
    "def check_even_odd(number):\n",
    "    if number % 2 == 0:\n",
    "        return f\"{number} is even.\"\n",
    "    else:\n",
    "        return f\"{number} is odd.\"\n",
    "\n",
    "# Example Usage\n",
    "user_number = int(input(\"Enter a number: \"))\n",
    "\n",
    "result = check_even_odd(user_number)\n",
    "print(result)\n"
   ]
  },
  {
   "cell_type": "markdown",
   "id": "dc5ee3fe",
   "metadata": {},
   "source": [
    "7. Write a Python function to calculate the absolute value of a number without using the `abs()` function."
   ]
  },
  {
   "cell_type": "code",
   "execution_count": 8,
   "id": "391404f7",
   "metadata": {},
   "outputs": [
    {
     "name": "stdout",
     "output_type": "stream",
     "text": [
      "Enter a number: 345\n",
      "The absolute value of 345.0 is: 345.0\n"
     ]
    }
   ],
   "source": [
    "def absolute_value(number):\n",
    "    if number < 0:\n",
    "        return -number\n",
    "    else:\n",
    "        return number\n",
    "\n",
    "# Example Usage\n",
    "user_number = float(input(\"Enter a number: \"))\n",
    "\n",
    "result = absolute_value(user_number)\n",
    "print(f\"The absolute value of {user_number} is: {result}\")\n"
   ]
  },
  {
   "cell_type": "markdown",
   "id": "e7e009c0",
   "metadata": {},
   "source": [
    "8. Develop a program that determines the largest of three given numbers using if-else statements."
   ]
  },
  {
   "cell_type": "code",
   "execution_count": 9,
   "id": "7dfe5645",
   "metadata": {},
   "outputs": [
    {
     "name": "stdout",
     "output_type": "stream",
     "text": [
      "Enter the first number: 45\n",
      "Enter the second number: 4457\n",
      "Enter the third number: 33\n",
      "The largest number is: 4457.0\n"
     ]
    }
   ],
   "source": [
    "def find_largest(num1, num2, num3):\n",
    "    if num1 >= num2 and num1 >= num3:\n",
    "        return num1\n",
    "    elif num2 >= num1 and num2 >= num3:\n",
    "        return num2\n",
    "    else:\n",
    "        return num3\n",
    "\n",
    "# Example Usage\n",
    "first_number = float(input(\"Enter the first number: \"))\n",
    "second_number = float(input(\"Enter the second number: \"))\n",
    "third_number = float(input(\"Enter the third number: \"))\n",
    "\n",
    "largest = find_largest(first_number, second_number, third_number)\n",
    "print(f\"The largest number is: {largest}\")\n"
   ]
  },
  {
   "cell_type": "markdown",
   "id": "abe23044",
   "metadata": {},
   "source": [
    "9. Create a program that checks if a given string is a palindrome."
   ]
  },
  {
   "cell_type": "code",
   "execution_count": 10,
   "id": "e8c79708",
   "metadata": {},
   "outputs": [
    {
     "name": "stdout",
     "output_type": "stream",
     "text": [
      "Enter a string: yash\n",
      "yash is not a palindrome.\n"
     ]
    }
   ],
   "source": [
    "def is_palindrome(input_string):\n",
    "    cleaned_string = ''.join(char.lower() for char in input_string if char.isalnum())\n",
    "    return cleaned_string == cleaned_string[::-1]\n",
    "\n",
    "# Example Usage\n",
    "user_input = input(\"Enter a string: \")\n",
    "\n",
    "if is_palindrome(user_input):\n",
    "    print(f\"{user_input} is a palindrome.\")\n",
    "else:\n",
    "    print(f\"{user_input} is not a palindrome.\")\n"
   ]
  },
  {
   "cell_type": "markdown",
   "id": "abc670b2",
   "metadata": {},
   "source": [
    "10. Write a Python program to calculate the grade based on a student's score."
   ]
  },
  {
   "cell_type": "code",
   "execution_count": 11,
   "id": "d69081b6",
   "metadata": {},
   "outputs": [
    {
     "name": "stdout",
     "output_type": "stream",
     "text": [
      "Enter the student's score: 80\n",
      "The student's grade is: B\n"
     ]
    }
   ],
   "source": [
    "def calculate_grade(score):\n",
    "    if 90 <= score <= 100:\n",
    "        return 'A'\n",
    "    elif 80 <= score < 90:\n",
    "        return 'B'\n",
    "    elif 70 <= score < 80:\n",
    "        return 'C'\n",
    "    elif 60 <= score < 70:\n",
    "        return 'D'\n",
    "    elif score < 60:\n",
    "        return 'F'\n",
    "    else:\n",
    "        return 'Invalid score'\n",
    "\n",
    "# Example Usage\n",
    "user_score = float(input(\"Enter the student's score: \"))\n",
    "\n",
    "grade = calculate_grade(user_score)\n",
    "print(f\"The student's grade is: {grade}\")\n"
   ]
  },
  {
   "cell_type": "markdown",
   "id": "4fdabb03",
   "metadata": {},
   "source": [
    "# Nested If-Else Statements:"
   ]
  },
  {
   "cell_type": "markdown",
   "id": "70b2d622",
   "metadata": {},
   "source": [
    "11. Write a program to find the largest among three numbers using nested if-else statements."
   ]
  },
  {
   "cell_type": "code",
   "execution_count": 1,
   "id": "2a37fcec",
   "metadata": {},
   "outputs": [
    {
     "name": "stdout",
     "output_type": "stream",
     "text": [
      "Enter the first number: 3\n",
      "Enter the second number: 5\n",
      "Enter the third number: 7\n",
      "The largest number is: 7.0\n"
     ]
    }
   ],
   "source": [
    "def find_largest(num1, num2, num3):\n",
    "    if num1 >= num2:\n",
    "        if num1 >= num3:\n",
    "            return num1\n",
    "        else:\n",
    "            return num3\n",
    "    else:\n",
    "        if num2 >= num3:\n",
    "            return num2\n",
    "        else:\n",
    "            return num3\n",
    "\n",
    "# Example Usage\n",
    "first_number = float(input(\"Enter the first number: \"))\n",
    "second_number = float(input(\"Enter the second number: \"))\n",
    "third_number = float(input(\"Enter the third number: \"))\n",
    "\n",
    "largest = find_largest(first_number, second_number, third_number)\n",
    "print(f\"The largest number is: {largest}\")\n"
   ]
  },
  {
   "cell_type": "markdown",
   "id": "1a5cd103",
   "metadata": {},
   "source": [
    "12. Implement a program to determine if a triangle is equilateral, isosceles, or scalene."
   ]
  },
  {
   "cell_type": "code",
   "execution_count": 2,
   "id": "66a64ee7",
   "metadata": {},
   "outputs": [
    {
     "name": "stdout",
     "output_type": "stream",
     "text": [
      "Enter the length of side a: 3\n",
      "Enter the length of side b: 4\n",
      "Enter the length of side c: 4\n",
      "The triangle is Isosceles.\n"
     ]
    }
   ],
   "source": [
    "def triangle_type(a, b, c):\n",
    "    if a == b == c:\n",
    "        return \"Equilateral\"\n",
    "    elif a == b or b == c or a == c:\n",
    "        return \"Isosceles\"\n",
    "    else:\n",
    "        return \"Scalene\"\n",
    "\n",
    "def main():\n",
    "    a = float(input(\"Enter the length of side a: \"))\n",
    "    b = float(input(\"Enter the length of side b: \"))\n",
    "    c = float(input(\"Enter the length of side c: \"))\n",
    "\n",
    "    if a + b > c and b + c > a and a + c > b:\n",
    "        triangle = triangle_type(a, b, c)\n",
    "        print(f\"The triangle is {triangle}.\")\n",
    "    else:\n",
    "        print(\"These side lengths do not form a valid triangle.\")\n",
    "\n",
    "if __name__ == \"__main__\":\n",
    "    main()\n"
   ]
  },
  {
   "cell_type": "markdown",
   "id": "0f26bdca",
   "metadata": {},
   "source": [
    "13. Develop a program that checks if a year is a leap year and also if it is a century year"
   ]
  },
  {
   "cell_type": "code",
   "execution_count": 3,
   "id": "36f0f3c7",
   "metadata": {},
   "outputs": [
    {
     "name": "stdout",
     "output_type": "stream",
     "text": [
      "Enter a year: 2002\n",
      "2002 is not a leap year.\n",
      "2002 is not a century year.\n"
     ]
    }
   ],
   "source": [
    "def is_leap_year(year):\n",
    "    if (year % 4 == 0 and year % 100 != 0) or (year % 400 == 0):\n",
    "        return True\n",
    "    else:\n",
    "        return False\n",
    "\n",
    "def is_century_year(year):\n",
    "    if year % 100 == 0:\n",
    "        return True\n",
    "    else:\n",
    "        return False\n",
    "\n",
    "def main():\n",
    "    year = int(input(\"Enter a year: \"))\n",
    "\n",
    "    if is_leap_year(year):\n",
    "        print(f\"{year} is a leap year.\")\n",
    "    else:\n",
    "        print(f\"{year} is not a leap year.\")\n",
    "\n",
    "    if is_century_year(year):\n",
    "        print(f\"{year} is a century year.\")\n",
    "    else:\n",
    "        print(f\"{year} is not a century year.\")\n",
    "\n",
    "if __name__ == \"__main__\":\n",
    "    main()\n"
   ]
  },
  {
   "cell_type": "markdown",
   "id": "e2eb1fe9",
   "metadata": {},
   "source": [
    "14. Write a Python script to determine if a number is positive, negative, or zero"
   ]
  },
  {
   "cell_type": "code",
   "execution_count": 4,
   "id": "d701413f",
   "metadata": {},
   "outputs": [
    {
     "name": "stdout",
     "output_type": "stream",
     "text": [
      "Enter a number: 4\n",
      "The number is positive.\n"
     ]
    }
   ],
   "source": [
    "def check_number(num):\n",
    "    if num > 0:\n",
    "        return \"positive\"\n",
    "    elif num < 0:\n",
    "        return \"negative\"\n",
    "    else:\n",
    "        return \"zero\"\n",
    "\n",
    "def main():\n",
    "    num = float(input(\"Enter a number: \"))\n",
    "    result = check_number(num)\n",
    "    print(f\"The number is {result}.\")\n",
    "\n",
    "if __name__ == \"__main__\":\n",
    "    main()\n"
   ]
  },
  {
   "cell_type": "markdown",
   "id": "5d796e66",
   "metadata": {},
   "source": [
    "15. Create a program to check if a person is a teenager (between 13 and 19 years old)"
   ]
  },
  {
   "cell_type": "code",
   "execution_count": 5,
   "id": "14b6813d",
   "metadata": {},
   "outputs": [
    {
     "name": "stdout",
     "output_type": "stream",
     "text": [
      "Enter your age: 26\n",
      "You are not a teenager.\n"
     ]
    }
   ],
   "source": [
    "def is_teenager(age):\n",
    "    return 13 <= age <= 19\n",
    "\n",
    "def main():\n",
    "    age = int(input(\"Enter your age: \"))\n",
    "\n",
    "    if is_teenager(age):\n",
    "        print(\"You are a teenager.\")\n",
    "    else:\n",
    "        print(\"You are not a teenager.\")\n",
    "\n",
    "if __name__ == \"__main__\":\n",
    "    main()\n"
   ]
  },
  {
   "cell_type": "markdown",
   "id": "178c33e4",
   "metadata": {},
   "source": [
    "16. Develop a program that determines the type of angle based on its measure (acute, obtuse, or right)."
   ]
  },
  {
   "cell_type": "code",
   "execution_count": 6,
   "id": "02bd0754",
   "metadata": {},
   "outputs": [
    {
     "name": "stdout",
     "output_type": "stream",
     "text": [
      "Enter the angle measure (in degrees): 48\n",
      "The angle is Acute.\n"
     ]
    }
   ],
   "source": [
    "def angle_type(angle):\n",
    "    if angle < 90:\n",
    "        return \"Acute\"\n",
    "    elif angle == 90:\n",
    "        return \"Right\"\n",
    "    elif angle > 90 and angle < 180:\n",
    "        return \"Obtuse\"\n",
    "    else:\n",
    "        return \"Invalid angle measure\"\n",
    "\n",
    "def main():\n",
    "    angle = float(input(\"Enter the angle measure (in degrees): \"))\n",
    "\n",
    "    if angle >= 0 and angle <= 180:\n",
    "        angle_category = angle_type(angle)\n",
    "        print(f\"The angle is {angle_category}.\")\n",
    "    else:\n",
    "        print(\"Invalid angle measure. Please enter a value between 0 and 180 degrees.\")\n",
    "\n",
    "if __name__ == \"__main__\":\n",
    "    main()\n"
   ]
  },
  {
   "cell_type": "markdown",
   "id": "0864971b",
   "metadata": {},
   "source": [
    "17. Write a Python program to calculate the roots of a quadratic equation"
   ]
  },
  {
   "cell_type": "code",
   "execution_count": 8,
   "id": "41cf434a",
   "metadata": {},
   "outputs": [
    {
     "name": "stdout",
     "output_type": "stream",
     "text": [
      "Enter coefficient a: 25\n",
      "Enter coefficient b: 16\n",
      "Enter coefficient c: 4\n",
      "The roots are complex:\n",
      "Root 1: (-0.32+0.24j)\n",
      "Root 2: (-0.32-0.24j)\n"
     ]
    }
   ],
   "source": [
    "import math\n",
    "\n",
    "def calculate_roots(a, b, c):\n",
    "    discriminant = b**2 - 4*a*c\n",
    "\n",
    "    if discriminant > 0:\n",
    "        root1 = (-b + math.sqrt(discriminant)) / (2*a)\n",
    "        root2 = (-b - math.sqrt(discriminant)) / (2*a)\n",
    "        return root1, root2\n",
    "    elif discriminant == 0:\n",
    "        root = -b / (2*a)\n",
    "        return root, root\n",
    "    else:\n",
    "        real_part = -b / (2*a)\n",
    "        imaginary_part = math.sqrt(abs(discriminant)) / (2*a)\n",
    "        root1 = complex(real_part, imaginary_part)\n",
    "        root2 = complex(real_part, -imaginary_part)\n",
    "        return root1, root2\n",
    "\n",
    "def main():\n",
    "    a = float(input(\"Enter coefficient a: \"))\n",
    "    b = float(input(\"Enter coefficient b: \"))\n",
    "    c = float(input(\"Enter coefficient c: \"))\n",
    "\n",
    "    roots = calculate_roots(a, b, c)\n",
    "\n",
    "    if isinstance(roots[0], complex):\n",
    "        print(f\"The roots are complex:\")\n",
    "        print(f\"Root 1: {roots[0]}\")\n",
    "        print(f\"Root 2: {roots[1]}\")\n",
    "    else:\n",
    "        print(f\"The roots are real:\")\n",
    "        print(f\"Root 1: {roots[0]}\")\n",
    "        print(f\"Root 2: {roots[1]}\")\n",
    "\n",
    "if __name__ == \"__main__\":\n",
    "    main()\n"
   ]
  },
  {
   "cell_type": "markdown",
   "id": "940106d0",
   "metadata": {},
   "source": [
    "18. Implement a program to determine the day of the week based on a user-provided number (1 for Monday, 2 \n",
    "for Tuesday, etc.)"
   ]
  },
  {
   "cell_type": "code",
   "execution_count": 9,
   "id": "037eb1cc",
   "metadata": {},
   "outputs": [
    {
     "name": "stdout",
     "output_type": "stream",
     "text": [
      "Enter a number (1 for Monday, 2 for Tuesday, etc.): 3\n",
      "The day of the week is Wednesday.\n"
     ]
    }
   ],
   "source": [
    "def get_day_of_week(day_number):\n",
    "    days_of_week = [\"Monday\", \"Tuesday\", \"Wednesday\", \"Thursday\", \"Friday\", \"Saturday\", \"Sunday\"]\n",
    "    \n",
    "    if 1 <= day_number <= 7:\n",
    "        return days_of_week[day_number - 1]\n",
    "    else:\n",
    "        return \"Invalid day number. Please enter a number between 1 and 7.\"\n",
    "\n",
    "def main():\n",
    "    day_number = int(input(\"Enter a number (1 for Monday, 2 for Tuesday, etc.): \"))\n",
    "    day_of_week = get_day_of_week(day_number)\n",
    "\n",
    "    print(f\"The day of the week is {day_of_week}.\")\n",
    "\n",
    "if __name__ == \"__main__\":\n",
    "    main()\n"
   ]
  },
  {
   "cell_type": "markdown",
   "id": "61ef16ef",
   "metadata": {},
   "source": [
    "19. Create a program that determines if a year is a leap year and also if it is evenly divisible by 400."
   ]
  },
  {
   "cell_type": "code",
   "execution_count": 10,
   "id": "6663fbaa",
   "metadata": {},
   "outputs": [
    {
     "name": "stdout",
     "output_type": "stream",
     "text": [
      "Enter a year: 2023\n",
      "2023 is not a leap year.\n",
      "2023 is not evenly divisible by 400.\n"
     ]
    }
   ],
   "source": [
    "def is_leap_year(year):\n",
    "    if (year % 4 == 0 and year % 100 != 0) or (year % 400 == 0):\n",
    "        return True\n",
    "    else:\n",
    "        return False\n",
    "\n",
    "def main():\n",
    "    year = int(input(\"Enter a year: \"))\n",
    "\n",
    "    if is_leap_year(year):\n",
    "        print(f\"{year} is a leap year.\")\n",
    "    else:\n",
    "        print(f\"{year} is not a leap year.\")\n",
    "    \n",
    "    if year % 400 == 0:\n",
    "        print(f\"{year} is evenly divisible by 400.\")\n",
    "    else:\n",
    "        print(f\"{year} is not evenly divisible by 400.\")\n",
    "\n",
    "if __name__ == \"__main__\":\n",
    "    main()\n"
   ]
  },
  {
   "cell_type": "markdown",
   "id": "896a98b0",
   "metadata": {},
   "source": [
    "20. Develop a program that checks if a given number is prime or not using nested if-else statements."
   ]
  },
  {
   "cell_type": "code",
   "execution_count": 12,
   "id": "0adcf5f1",
   "metadata": {},
   "outputs": [
    {
     "name": "stdout",
     "output_type": "stream",
     "text": [
      "Enter a number: 5\n",
      "5 is a prime number.\n"
     ]
    }
   ],
   "source": [
    "def is_prime(number):\n",
    "    if number <= 1:\n",
    "        return False\n",
    "    elif number == 2:\n",
    "        return True\n",
    "    elif number % 2 == 0:\n",
    "        return False\n",
    "    else:\n",
    "        # Check for factors up to the square root of the number\n",
    "        for i in range(3, int(number**0.5) + 1, 2):\n",
    "            if number % i == 0:\n",
    "                return False\n",
    "        return True\n",
    "\n",
    "def main():\n",
    "    number = int(input(\"Enter a number: \"))\n",
    "\n",
    "    if is_prime(number):\n",
    "        print(f\"{number} is a prime number.\")\n",
    "    else:\n",
    "        print(f\"{number} is not a prime number.\")\n",
    "\n",
    "if __name__ == \"__main__\":\n",
    "    main()\n"
   ]
  },
  {
   "cell_type": "markdown",
   "id": "48dae7c2",
   "metadata": {},
   "source": [
    "21. Create a program that calculates the income tax based on the user's income and tax brackets."
   ]
  },
  {
   "cell_type": "code",
   "execution_count": 14,
   "id": "b78daf94",
   "metadata": {},
   "outputs": [
    {
     "name": "stdout",
     "output_type": "stream",
     "text": [
      "Enter your income: 10000\n",
      "Your income tax is: 1000.0\n"
     ]
    }
   ],
   "source": [
    "def calculate_income_tax(income):\n",
    "    tax_brackets = [\n",
    "        (0, 10000, 0.1),\n",
    "        (10000, 50000, 0.2),\n",
    "        (50000, 100000, 0.3),\n",
    "        (100000, float('inf'), 0.4)\n",
    "    ]\n",
    "\n",
    "    tax = 0\n",
    "    remaining_income = income\n",
    "\n",
    "    for lower, upper, rate in tax_brackets:\n",
    "        if remaining_income <= 0:\n",
    "            break\n",
    "        taxable_income = min(upper - lower, remaining_income)\n",
    "        tax += taxable_income * rate\n",
    "        remaining_income -= taxable_income\n",
    "\n",
    "    return tax\n",
    "\n",
    "if __name__ == \"__main__\":\n",
    "    try:\n",
    "        income = float(input(\"Enter your income: \"))\n",
    "        if income < 0:\n",
    "            print(\"Income cannot be negative.\")\n",
    "        else:\n",
    "            tax = calculate_income_tax(income)\n",
    "            print(f\"Your income tax is: {tax}\")\n",
    "    except ValueError:\n",
    "        print(\"Invalid input. Please enter a valid numeric value for income.\")\n"
   ]
  },
  {
   "cell_type": "markdown",
   "id": "10d8c501",
   "metadata": {},
   "source": [
    "22. Write a program that simulates a rock-paper-scissors game against the computer."
   ]
  },
  {
   "cell_type": "code",
   "execution_count": 13,
   "id": "1028ce3c",
   "metadata": {},
   "outputs": [
    {
     "name": "stdout",
     "output_type": "stream",
     "text": [
      "Enter your choice (rock, paper, scissors): rock\n",
      "You chose: rock\n",
      "Computer chose: paper\n",
      "You lose!\n"
     ]
    }
   ],
   "source": [
    "import random\n",
    "\n",
    "def play_rps(user_choice):\n",
    "    options = ['rock', 'paper', 'scissors']\n",
    "    computer_choice = random.choice(options)\n",
    "    \n",
    "    print(f\"You chose: {user_choice}\")\n",
    "    print(f\"Computer chose: {computer_choice}\")\n",
    "    \n",
    "    if user_choice == computer_choice:\n",
    "        return \"It's a tie!\"\n",
    "    elif (user_choice == 'rock' and computer_choice == 'scissors') or \\\n",
    "         (user_choice == 'paper' and computer_choice == 'rock') or \\\n",
    "         (user_choice == 'scissors' and computer_choice == 'paper'):\n",
    "        return \"You win!\"\n",
    "    else:\n",
    "        return \"You lose!\"\n",
    "\n",
    "if __name__ == \"__main__\":\n",
    "    user_choice = input(\"Enter your choice (rock, paper, scissors): \").lower()\n",
    "    if user_choice not in ['rock', 'paper', 'scissors']:\n",
    "        print(\"Invalid choice. Please choose from rock, paper, or scissors.\")\n",
    "    else:\n",
    "        result = play_rps(user_choice)\n",
    "        print(result)\n"
   ]
  },
  {
   "cell_type": "markdown",
   "id": "1d250c89",
   "metadata": {},
   "source": [
    "23. Develop a program that generates a random password based on user preferences (length, complexity)."
   ]
  },
  {
   "cell_type": "code",
   "execution_count": 18,
   "id": "67ab79f7",
   "metadata": {},
   "outputs": [
    {
     "name": "stdout",
     "output_type": "stream",
     "text": [
      "Enter the desired length of the password: 8\n",
      "Enter the complexity level (1 for low, 2 for medium, 3 for high): 2\n",
      "Generated Password: TP3yhQYM\n"
     ]
    }
   ],
   "source": [
    "import random\n",
    "import string\n",
    "\n",
    "def generate_password(length, complex_level):\n",
    "    if complex_level == 1:\n",
    "        characters = string.ascii_letters\n",
    "    elif complex_level == 2:\n",
    "        characters = string.ascii_letters + string.digits\n",
    "    elif complex_level == 3:\n",
    "        characters = string.ascii_letters + string.digits + string.punctuation\n",
    "    else:\n",
    "        return \"Invalid complexity level. Please choose from 1, 2, or 3.\"\n",
    "\n",
    "    password = ''.join(random.choice(characters) for _ in range(length))\n",
    "    return password\n",
    "\n",
    "if __name__ == \"__main__\":\n",
    "    try:\n",
    "        length = int(input(\"Enter the desired length of the password: \"))\n",
    "        complex_level = int(input(\"Enter the complexity level (1 for low, 2 for medium, 3 for high): \"))\n",
    "\n",
    "        password = generate_password(length, complex_level)\n",
    "        print(f\"Generated Password: {password}\")\n",
    "    except ValueError:\n",
    "        print(\"Invalid input. Please enter valid numeric values for length and complexity.\")\n"
   ]
  },
  {
   "cell_type": "markdown",
   "id": "93fa562a",
   "metadata": {},
   "source": [
    "24. Create a program that implements a simple text-based adventure game with branching scenarios."
   ]
  },
  {
   "cell_type": "code",
   "execution_count": 19,
   "id": "53344736",
   "metadata": {},
   "outputs": [
    {
     "name": "stdout",
     "output_type": "stream",
     "text": [
      "Welcome to the Adventure Game!\n",
      "You find yourself standing at the entrance of a dark cave.\n",
      "You have two paths ahead: 'left' or 'right'.\n",
      "Which path will you choose? (left/right): left\n",
      "\n",
      "You chose the left path.\n",
      "You find a hidden treasure chest!\n",
      "Congratulations! You win!\n"
     ]
    }
   ],
   "source": [
    "def start_game():\n",
    "    print(\"Welcome to the Adventure Game!\")\n",
    "    print(\"You find yourself standing at the entrance of a dark cave.\")\n",
    "    print(\"You have two paths ahead: 'left' or 'right'.\")\n",
    "    choice = input(\"Which path will you choose? (left/right): \").lower()\n",
    "\n",
    "    if choice == 'left':\n",
    "        left_path()\n",
    "    elif choice == 'right':\n",
    "        right_path()\n",
    "    else:\n",
    "        print(\"Invalid input. Please choose 'left' or 'right'.\")\n",
    "        start_game()\n",
    "\n",
    "def left_path():\n",
    "    print(\"\\nYou chose the left path.\")\n",
    "    print(\"You find a hidden treasure chest!\")\n",
    "    print(\"Congratulations! You win!\")\n",
    "\n",
    "def right_path():\n",
    "    print(\"\\nYou chose the right path.\")\n",
    "    print(\"You encounter a hungry dragon!\")\n",
    "    print(\"You try to run, but it's too fast...\")\n",
    "    print(\"Game over. Better luck next time!\")\n",
    "\n",
    "if __name__ == \"__main__\":\n",
    "    start_game()\n"
   ]
  },
  {
   "cell_type": "markdown",
   "id": "f1b495be",
   "metadata": {},
   "source": [
    "25. Build a program that solves a linear equation for x, considering different cases."
   ]
  },
  {
   "cell_type": "code",
   "execution_count": 20,
   "id": "d5ec932b",
   "metadata": {},
   "outputs": [
    {
     "name": "stdout",
     "output_type": "stream",
     "text": [
      "Enter the value of 'a': 5\n",
      "Enter the value of 'b': 7\n",
      "Enter the value of 'c': 8\n",
      "The solution for x is: 0.2\n"
     ]
    }
   ],
   "source": [
    "def solve_linear_equation(a, b, c):\n",
    "    if a == 0:\n",
    "        if b == c:\n",
    "            return \"Infinite solutions (identity)\"\n",
    "        else:\n",
    "            return \"No solution\"\n",
    "    else:\n",
    "        x = (c - b) / a\n",
    "        return f\"The solution for x is: {x}\"\n",
    "\n",
    "if __name__ == \"__main__\":\n",
    "    try:\n",
    "        a = float(input(\"Enter the value of 'a': \"))\n",
    "        b = float(input(\"Enter the value of 'b': \"))\n",
    "        c = float(input(\"Enter the value of 'c': \"))\n",
    "\n",
    "        solution = solve_linear_equation(a, b, c)\n",
    "        print(solution)\n",
    "    except ValueError:\n",
    "        print(\"Invalid input. Please enter valid numeric values for 'a', 'b', and 'c'.\")\n",
    "\n",
    "        "
   ]
  },
  {
   "cell_type": "markdown",
   "id": "a06c136e",
   "metadata": {},
   "source": [
    "26. Write a program that simulates a basic quiz game with multiple-choice questions and scoring."
   ]
  },
  {
   "cell_type": "code",
   "execution_count": 22,
   "id": "a010f113",
   "metadata": {},
   "outputs": [
    {
     "name": "stdout",
     "output_type": "stream",
     "text": [
      "\n",
      "Question 1:\n",
      "What is the capital of France?\n",
      "1. Berlin\n",
      "2. Madrid\n",
      "3. Paris\n",
      "4. Rome\n",
      "Enter your choice (1-4): 3\n",
      "Correct!\n",
      "\n",
      "Question 2:\n",
      "What is 2 + 2?\n",
      "1. 3\n",
      "2. 4\n",
      "3. 5\n",
      "4. 6\n",
      "Enter your choice (1-4): 2\n",
      "Correct!\n",
      "\n",
      "Question 3:\n",
      "Which planet is known as the 'Red Planet'?\n",
      "1. Mars\n",
      "2. Venus\n",
      "3. Jupiter\n",
      "4. Saturn\n",
      "Enter your choice (1-4): 2\n",
      "Wrong answer. The correct option was: 1\n",
      "\n",
      "Question 4:\n",
      "What is the largest mammal?\n",
      "1. Elephant\n",
      "2. Whale\n",
      "3. Giraffe\n",
      "4. Lion\n",
      "Enter your choice (1-4): 2\n",
      "Correct!\n",
      "\n",
      "Quiz complete! Your score is: 3/4\n"
     ]
    }
   ],
   "source": [
    "class Question:\n",
    "    def __init__(self, text, options, correct_option):\n",
    "        self.text = text\n",
    "        self.options = options\n",
    "        self.correct_option = correct_option\n",
    "\n",
    "    def display_question(self):\n",
    "        print(self.text)\n",
    "        for i, option in enumerate(self.options, start=1):\n",
    "            print(f\"{i}. {option}\")\n",
    "    \n",
    "    def check_answer(self, choice):\n",
    "        return choice == self.correct_option\n",
    "\n",
    "def run_quiz(questions):\n",
    "    score = 0\n",
    "\n",
    "    for i, question in enumerate(questions, start=1):\n",
    "        print(f\"\\nQuestion {i}:\")\n",
    "        question.display_question()\n",
    "        choice = int(input(\"Enter your choice (1-4): \"))\n",
    "\n",
    "        if 1 <= choice <= 4:\n",
    "            if question.check_answer(choice):\n",
    "                print(\"Correct!\")\n",
    "                score += 1\n",
    "            else:\n",
    "                print(\"Wrong answer. The correct option was:\", question.correct_option)\n",
    "        else:\n",
    "            print(\"Invalid choice. Please enter a number between 1 and 4.\")\n",
    "\n",
    "    print(f\"\\nQuiz complete! Your score is: {score}/{len(questions)}\")\n",
    "\n",
    "if __name__ == \"__main__\":\n",
    "    # Define the questions\n",
    "    questions = [\n",
    "        Question(\"What is the capital of France?\", [\"Berlin\", \"Madrid\", \"Paris\", \"Rome\"], 3),\n",
    "        Question(\"What is 2 + 2?\", [\"3\", \"4\", \"5\", \"6\"], 2),\n",
    "        Question(\"Which planet is known as the 'Red Planet'?\", [\"Mars\", \"Venus\", \"Jupiter\", \"Saturn\"], 1),\n",
    "        Question(\"What is the largest mammal?\", [\"Elephant\", \"Whale\", \"Giraffe\", \"Lion\"], 2)\n",
    "    ]\n",
    "\n",
    "    run_quiz(questions)\n"
   ]
  },
  {
   "cell_type": "markdown",
   "id": "bcbba5ec",
   "metadata": {},
   "source": [
    "27. Develop a program that determines whether a given year is a prime number or not."
   ]
  },
  {
   "cell_type": "code",
   "execution_count": 23,
   "id": "245475e9",
   "metadata": {},
   "outputs": [
    {
     "name": "stdout",
     "output_type": "stream",
     "text": [
      "Enter a year to check for primality: 2011\n",
      "2011 is a prime number.\n"
     ]
    }
   ],
   "source": [
    "def is_prime(year):\n",
    "    if year < 2:\n",
    "        return False\n",
    "    for i in range(2, int(year**0.5) + 1):\n",
    "        if year % i == 0:\n",
    "            return False\n",
    "    return True\n",
    "\n",
    "if __name__ == \"__main__\":\n",
    "    try:\n",
    "        year = int(input(\"Enter a year to check for primality: \"))\n",
    "\n",
    "        if is_prime(year):\n",
    "            print(f\"{year} is a prime number.\")\n",
    "        else:\n",
    "            print(f\"{year} is not a prime number.\")\n",
    "    except ValueError:\n",
    "        print(\"Invalid input. Please enter a valid numeric value for the year.\")\n"
   ]
  },
  {
   "cell_type": "markdown",
   "id": "67891d16",
   "metadata": {},
   "source": [
    "28. Create a program that sorts three numbers in ascending order using conditional statements."
   ]
  },
  {
   "cell_type": "code",
   "execution_count": 24,
   "id": "845080c9",
   "metadata": {},
   "outputs": [
    {
     "name": "stdout",
     "output_type": "stream",
     "text": [
      "Enter the first number: 3\n",
      "Enter the second number: 6\n",
      "Enter the third number: 4\n",
      "The sorted numbers are: (3.0, 4.0, 6.0)\n"
     ]
    }
   ],
   "source": [
    "def sort_numbers(a, b, c):\n",
    "    if a <= b and a <= c:\n",
    "        smallest = a\n",
    "        if b <= c:\n",
    "            middle = b\n",
    "            largest = c\n",
    "        else:\n",
    "            middle = c\n",
    "            largest = b\n",
    "    elif b <= a and b <= c:\n",
    "        smallest = b\n",
    "        if a <= c:\n",
    "            middle = a\n",
    "            largest = c\n",
    "        else:\n",
    "            middle = c\n",
    "            largest = a\n",
    "    else:\n",
    "        smallest = c\n",
    "        if a <= b:\n",
    "            middle = a\n",
    "            largest = b\n",
    "        else:\n",
    "            middle = b\n",
    "            largest = a\n",
    "\n",
    "    return smallest, middle, largest\n",
    "\n",
    "if __name__ == \"__main__\":\n",
    "    try:\n",
    "        a = float(input(\"Enter the first number: \"))\n",
    "        b = float(input(\"Enter the second number: \"))\n",
    "        c = float(input(\"Enter the third number: \"))\n",
    "\n",
    "        sorted_numbers = sort_numbers(a, b, c)\n",
    "        print(f\"The sorted numbers are: {sorted_numbers}\")\n",
    "    except ValueError:\n",
    "        print(\"Invalid input. Please enter valid numeric values.\")\n"
   ]
  },
  {
   "cell_type": "markdown",
   "id": "e7bcfc49",
   "metadata": {},
   "source": [
    "29. Build a program that determines the roots of a quartic equation using numerical methods."
   ]
  },
  {
   "cell_type": "code",
   "execution_count": 25,
   "id": "238688f0",
   "metadata": {},
   "outputs": [
    {
     "name": "stdout",
     "output_type": "stream",
     "text": [
      "Approximate root: -1.2002527721998941\n"
     ]
    }
   ],
   "source": [
    "def f(x, coeffs):\n",
    "    return sum(coeff * (x ** i) for i, coeff in enumerate(coeffs))\n",
    "\n",
    "def df(x, coeffs):\n",
    "    return sum(i * coeff * (x ** (i-1)) for i, coeff in enumerate(coeffs) if i > 0)\n",
    "\n",
    "def newton_raphson(coefficients, x0, epsilon=1e-10, max_iterations=1000):\n",
    "    x = x0\n",
    "    for _ in range(max_iterations):\n",
    "        fx = f(x, coefficients)\n",
    "        dfx = df(x, coefficients)\n",
    "\n",
    "        if abs(fx) < epsilon:\n",
    "            return x\n",
    "\n",
    "        if abs(dfx) < epsilon:\n",
    "            return None  # Avoid division by zero\n",
    "\n",
    "        x = x - fx / dfx\n",
    "\n",
    "    return None  # Maximum iterations reached\n",
    "\n",
    "if __name__ == \"__main__\":\n",
    "    # Example: x^4 - 5x^3 + 2x^2 + 8x - 4 = 0\n",
    "    coefficients = [-4, 8, 2, -5, 1]\n",
    "    initial_guess = 1\n",
    "\n",
    "    root = newton_raphson(coefficients, initial_guess)\n",
    "\n",
    "    if root is not None:\n",
    "        print(f\"Approximate root: {root}\")\n",
    "    else:\n",
    "        print(\"Root not found (try a different initial guess or check the equation).\")\n"
   ]
  },
  {
   "cell_type": "markdown",
   "id": "eed3b0c0",
   "metadata": {},
   "source": [
    "30. Write a program that calculates the BMI (Body Mass Index) and provides health recommendations based\n",
    "on the user's input."
   ]
  },
  {
   "cell_type": "code",
   "execution_count": 26,
   "id": "2dc59a70",
   "metadata": {},
   "outputs": [
    {
     "name": "stdout",
     "output_type": "stream",
     "text": [
      "Enter your weight in kilograms: 55\n",
      "Enter your height in meters: 1.65\n",
      "Your BMI is: 20.20\n",
      "You are in the 'Normal weight' category.\n",
      "Recommendation: Maintain a balanced diet and exercise regularly.\n"
     ]
    }
   ],
   "source": [
    "def calculate_bmi(weight, height):\n",
    "    bmi = weight / (height ** 2)\n",
    "    return bmi\n",
    "\n",
    "def get_bmi_category(bmi):\n",
    "    if bmi < 18.5:\n",
    "        return \"Underweight\"\n",
    "    elif 18.5 <= bmi < 24.9:\n",
    "        return \"Normal weight\"\n",
    "    elif 25 <= bmi < 29.9:\n",
    "        return \"Overweight\"\n",
    "    else:\n",
    "        return \"Obesity\"\n",
    "\n",
    "def get_health_recommendation(bmi_category):\n",
    "    recommendations = {\n",
    "        \"Underweight\": \"Consider gaining some weight in a healthy way.\",\n",
    "        \"Normal weight\": \"Maintain a balanced diet and exercise regularly.\",\n",
    "        \"Overweight\": \"Consider losing some weight for better health.\",\n",
    "        \"Obesity\": \"Consult a healthcare professional for a personalized plan.\"\n",
    "    }\n",
    "    return recommendations.get(bmi_category, \"Invalid BMI category\")\n",
    "\n",
    "if __name__ == \"__main__\":\n",
    "    try:\n",
    "        weight = float(input(\"Enter your weight in kilograms: \"))\n",
    "        height = float(input(\"Enter your height in meters: \"))\n",
    "\n",
    "        bmi = calculate_bmi(weight, height)\n",
    "        bmi_category = get_bmi_category(bmi)\n",
    "        health_recommendation = get_health_recommendation(bmi_category)\n",
    "\n",
    "        print(f\"Your BMI is: {bmi:.2f}\")\n",
    "        print(f\"You are in the '{bmi_category}' category.\")\n",
    "        print(f\"Recommendation: {health_recommendation}\")\n",
    "    except ValueError:\n",
    "        print(\"Invalid input. Please enter valid numeric values for weight and height.\")\n"
   ]
  },
  {
   "cell_type": "markdown",
   "id": "a199f3cf",
   "metadata": {},
   "source": [
    "# Challenge Level:"
   ]
  },
  {
   "cell_type": "markdown",
   "id": "734fa51c",
   "metadata": {},
   "source": [
    "31. Create a program that validates a password based on complexity rules (length, characters, etc.)."
   ]
  },
  {
   "cell_type": "code",
   "execution_count": 28,
   "id": "d457be76",
   "metadata": {},
   "outputs": [
    {
     "name": "stdout",
     "output_type": "stream",
     "text": [
      "Enter a password to validate: yash1234\n",
      "Password should contain at least one uppercase letter.\n"
     ]
    }
   ],
   "source": [
    "import re\n",
    "\n",
    "def validate_password(password):\n",
    "    if len(password) < 8:\n",
    "        return \"Password should be at least 8 characters long.\"\n",
    "\n",
    "    if not re.search(r'[A-Z]', password):\n",
    "        return \"Password should contain at least one uppercase letter.\"\n",
    "\n",
    "    if not re.search(r'[a-z]', password):\n",
    "        return \"Password should contain at least one lowercase letter.\"\n",
    "\n",
    "    if not re.search(r'\\d', password):\n",
    "        return \"Password should contain at least one digit.\"\n",
    "\n",
    "    if not re.search(r'[!@#$%^&*(),.?\":{}|<>]', password):\n",
    "        return \"Password should contain at least one special symbol (!@#$%^&*(),.?\\\":{}|<>).\"\n",
    "\n",
    "    if ' ' in password:\n",
    "        return \"Password should not contain spaces.\"\n",
    "\n",
    "    return \"Password is valid.\"\n",
    "\n",
    "if __name__ == \"__main__\":\n",
    "    password = input(\"Enter a password to validate: \")\n",
    "\n",
    "    validation_result = validate_password(password)\n",
    "    print(validation_result)\n",
    "?"
   ]
  },
  {
   "cell_type": "markdown",
   "id": "1cc59175",
   "metadata": {},
   "source": [
    "32. Develop a program that performs matrix addition and subtraction based on user input."
   ]
  },
  {
   "cell_type": "code",
   "execution_count": 32,
   "id": "2cfd7c99",
   "metadata": {},
   "outputs": [
    {
     "name": "stdout",
     "output_type": "stream",
     "text": [
      "Enter the number of rows: 2\n",
      "Enter the number of columns: 2\n",
      "\n",
      "Enter the elements of the first matrix:\n",
      "1\n",
      "2\n",
      "3\n",
      "4\n",
      "\n",
      "Enter the elements of the second matrix:\n",
      "5\n",
      "6\n",
      "7\n",
      "8\n",
      "\n",
      "Matrix 1:\n",
      "1 2\n",
      "3 4\n",
      "\n",
      "Matrix 2:\n",
      "5 6\n",
      "7 8\n",
      "\n",
      "Result of Addition:\n",
      "6 8\n",
      "10 12\n",
      "\n",
      "Result of Subtraction:\n",
      "-4 -4\n",
      "-4 -4\n"
     ]
    }
   ],
   "source": [
    "def matrix_addition(matrix1, matrix2):\n",
    "    result = [[matrix1[i][j] + matrix2[i][j] for j in range(len(matrix1[0]))] for i in range(len(matrix1))]\n",
    "    return result\n",
    "\n",
    "def matrix_subtraction(matrix1, matrix2):\n",
    "    result = [[matrix1[i][j] - matrix2[i][j] for j in range(len(matrix1[0]))] for i in range(len(matrix1))]\n",
    "    return result\n",
    "\n",
    "def print_matrix(matrix):\n",
    "    for row in matrix:\n",
    "        print(' '.join(str(element) for element in row))\n",
    "\n",
    "if __name__ == \"__main__\":\n",
    "    try:\n",
    "        rows = int(input(\"Enter the number of rows: \"))\n",
    "        cols = int(input(\"Enter the number of columns: \"))\n",
    "\n",
    "        print(\"\\nEnter the elements of the first matrix:\")\n",
    "        matrix1 = [[int(input()) for _ in range(cols)] for _ in range(rows)]\n",
    "\n",
    "        print(\"\\nEnter the elements of the second matrix:\")\n",
    "        matrix2 = [[int(input()) for _ in range(cols)] for _ in range(rows)]\n",
    "\n",
    "        print(\"\\nMatrix 1:\")\n",
    "        print_matrix(matrix1)\n",
    "\n",
    "        print(\"\\nMatrix 2:\")\n",
    "        print_matrix(matrix2)\n",
    "\n",
    "        # Perform addition and subtraction\n",
    "        result_addition = matrix_addition(matrix1, matrix2)\n",
    "        result_subtraction = matrix_subtraction(matrix1, matrix2)\n",
    "\n",
    "        print(\"\\nResult of Addition:\")\n",
    "        print_matrix(result_addition)\n",
    "\n",
    "        print(\"\\nResult of Subtraction:\")\n",
    "        print_matrix(result_subtraction)\n",
    "\n",
    "    except ValueError:\n",
    "        print(\"Invalid input. Please enter valid numeric values for rows, columns, and matrix elements.\")\n",
    "\n",
    "        "
   ]
  },
  {
   "cell_type": "markdown",
   "id": "b41e44bb",
   "metadata": {},
   "source": [
    "33. Write a program that calculates the greatest common divisor (GCD) of two numbers using the Euclidean\n",
    "algorithm. "
   ]
  },
  {
   "cell_type": "code",
   "execution_count": 34,
   "id": "eccb211a",
   "metadata": {},
   "outputs": [
    {
     "name": "stdout",
     "output_type": "stream",
     "text": [
      "Enter the first number: 45\n",
      "Enter the second number: 78\n",
      "The GCD of 45 and 78 is: 3\n"
     ]
    }
   ],
   "source": [
    "def euclidean_gcd(a, b):\n",
    "    while b:\n",
    "        a, b = b, a % b\n",
    "    return a\n",
    "\n",
    "if __name__ == \"__main__\":\n",
    "    try:\n",
    "        num1 = int(input(\"Enter the first number: \"))\n",
    "        num2 = int(input(\"Enter the second number: \"))\n",
    "\n",
    "        gcd = euclidean_gcd(num1, num2)\n",
    "        print(f\"The GCD of {num1} and {num2} is: {gcd}\")\n",
    "    except ValueError:\n",
    "        print(\"Invalid input. Please enter valid numeric values.\")\n",
    "\n",
    "        "
   ]
  },
  {
   "cell_type": "markdown",
   "id": "4c24f0df",
   "metadata": {},
   "source": [
    "34. Build a program that performs matrix multiplication using nested loops and conditional statements."
   ]
  },
  {
   "cell_type": "code",
   "execution_count": 36,
   "id": "dfd65395",
   "metadata": {},
   "outputs": [
    {
     "name": "stdout",
     "output_type": "stream",
     "text": [
      "Enter the number of rows for matrix 1: 2\n",
      "Enter the number of columns for matrix 1: 2\n",
      "\n",
      "Enter the elements of matrix 1:\n",
      "1\n",
      "2\n",
      "3\n",
      "4\n",
      "\n",
      "Enter the number of rows for matrix 2: 2\n",
      "Enter the number of columns for matrix 2: 3\n",
      "\n",
      "Enter the elements of matrix 2:\n",
      "1\n",
      "2\n",
      "3\n",
      "4\n",
      "5\n",
      "6\n",
      "\n",
      "Matrix 1:\n",
      "1 2\n",
      "3 4\n",
      "\n",
      "Matrix 2:\n",
      "1 2 3\n",
      "4 5 6\n",
      "\n",
      "Result of Matrix Multiplication:\n",
      "9 12 15\n",
      "19 26 33\n"
     ]
    }
   ],
   "source": [
    "def matrix_multiplication(matrix1, matrix2):\n",
    "    if len(matrix1[0]) != len(matrix2):\n",
    "        return None  # Matrix multiplication not possible\n",
    "\n",
    "    result = [[0 for _ in range(len(matrix2[0]))] for _ in range(len(matrix1))]\n",
    "\n",
    "    for i in range(len(matrix1)):\n",
    "        for j in range(len(matrix2[0])):\n",
    "            for k in range(len(matrix2)):\n",
    "                result[i][j] += matrix1[i][k] * matrix2[k][j]\n",
    "\n",
    "    return result\n",
    "\n",
    "def print_matrix(matrix):\n",
    "    for row in matrix:\n",
    "        print(' '.join(str(element) for element in row))\n",
    "\n",
    "if __name__ == \"__main__\":\n",
    "    try:\n",
    "        rows1 = int(input(\"Enter the number of rows for matrix 1: \"))\n",
    "        cols1 = int(input(\"Enter the number of columns for matrix 1: \"))\n",
    "\n",
    "        print(\"\\nEnter the elements of matrix 1:\")\n",
    "        matrix1 = [[int(input()) for _ in range(cols1)] for _ in range(rows1)]\n",
    "\n",
    "        rows2 = int(input(\"\\nEnter the number of rows for matrix 2: \"))\n",
    "        cols2 = int(input(\"Enter the number of columns for matrix 2: \"))\n",
    "\n",
    "        print(\"\\nEnter the elements of matrix 2:\")\n",
    "        matrix2 = [[int(input()) for _ in range(cols2)] for _ in range(rows2)]\n",
    "\n",
    "        print(\"\\nMatrix 1:\")\n",
    "        print_matrix(matrix1)\n",
    "\n",
    "        print(\"\\nMatrix 2:\")\n",
    "        print_matrix(matrix2)\n",
    "\n",
    "        # Perform matrix multiplication\n",
    "        result = matrix_multiplication(matrix1, matrix2)\n",
    "\n",
    "        if result is not None:\n",
    "            print(\"\\nResult of Matrix Multiplication:\")\n",
    "            print_matrix(result)\n",
    "        else:\n",
    "            print(\"\\nMatrix multiplication not possible. Number of columns in matrix 1 must be equal to number of rows in matrix 2.\")\n",
    "\n",
    "    except ValueError:\n",
    "        print(\"Invalid input. Please enter valid numeric values for rows, columns, and matrix elements.\")\n"
   ]
  },
  {
   "cell_type": "markdown",
   "id": "eb5cca3f",
   "metadata": {},
   "source": [
    "35. Create a program that simulates a basic text-based tic-tac-toe game against the computer."
   ]
  },
  {
   "cell_type": "code",
   "execution_count": 39,
   "id": "f625c760",
   "metadata": {},
   "outputs": [
    {
     "name": "stdout",
     "output_type": "stream",
     "text": [
      "Welcome to Tic-Tac-Toe!\n",
      "  |   |  \n",
      "--+---+--\n",
      "  |   |  \n",
      "--+---+--\n",
      "  |   |  \n",
      "--+---+--\n",
      "Enter your move (row col): 1 1\n",
      "  |   |  \n",
      "--+---+--\n",
      "  | X |  \n",
      "--+---+--\n",
      "  |   |  \n",
      "--+---+--\n",
      "Computer's turn...\n",
      "  |   |  \n",
      "--+---+--\n",
      "  | X |  \n",
      "--+---+--\n",
      "O |   |  \n",
      "--+---+--\n",
      "Enter your move (row col): 0 1\n",
      "  | X |  \n",
      "--+---+--\n",
      "  | X |  \n",
      "--+---+--\n",
      "O |   |  \n",
      "--+---+--\n",
      "Computer's turn...\n",
      "O | X |  \n",
      "--+---+--\n",
      "  | X |  \n",
      "--+---+--\n",
      "O |   |  \n",
      "--+---+--\n",
      "Enter your move (row col): 2 1\n",
      "O | X |  \n",
      "--+---+--\n",
      "  | X |  \n",
      "--+---+--\n",
      "O | X |  \n",
      "--+---+--\n",
      "Player X wins!\n"
     ]
    }
   ],
   "source": [
    "import random\n",
    "\n",
    "def print_board(board):\n",
    "    for row in board:\n",
    "        print(' | '.join(row))\n",
    "        print('--+---+--')\n",
    "\n",
    "def check_winner(board, player):\n",
    "    for row in board:\n",
    "        if row.count(player) == 3:\n",
    "            return True\n",
    "\n",
    "    for col in range(3):\n",
    "        if board[0][col] == board[1][col] == board[2][col] == player:\n",
    "            return True\n",
    "\n",
    "    if board[0][0] == board[1][1] == board[2][2] == player:\n",
    "        return True\n",
    "\n",
    "    if board[0][2] == board[1][1] == board[2][0] == player:\n",
    "        return True\n",
    "\n",
    "    return False\n",
    "\n",
    "def get_available_moves(board):\n",
    "    return [(i, j) for i in range(3) for j in range(3) if board[i][j] == ' ']\n",
    "\n",
    "def computer_move(board):\n",
    "    available_moves = get_available_moves(board)\n",
    "    return random.choice(available_moves)\n",
    "\n",
    "if __name__ == \"__main__\":\n",
    "    board = [[' ' for _ in range(3)] for _ in range(3)]\n",
    "    player = 'X'\n",
    "    computer = 'O'\n",
    "\n",
    "    print(\"Welcome to Tic-Tac-Toe!\")\n",
    "    print_board(board)\n",
    "\n",
    "    for _ in range(9):\n",
    "        if player == 'X':\n",
    "            row, col = map(int, input(\"Enter your move (row col): \").split())\n",
    "        else:\n",
    "            print(\"Computer's turn...\")\n",
    "            row, col = computer_move(board)\n",
    "\n",
    "        if board[row][col] == ' ':\n",
    "            board[row][col] = player\n",
    "        else:\n",
    "            print(\"Invalid move. Try again.\")\n",
    "            continue\n",
    "\n",
    "        print_board(board)\n",
    "\n",
    "        if check_winner(board, player):\n",
    "            print(f'Player {player} wins!')\n",
    "            break\n",
    "\n",
    "        player, computer = computer, player\n",
    "    else:\n",
    "        print(\"It's a draw!\")\n",
    "\n",
    "        "
   ]
  },
  {
   "cell_type": "markdown",
   "id": "7ba9a880",
   "metadata": {},
   "source": [
    "36. Write a program that generates Fibonacci numbers up to a specified term using iterative methods."
   ]
  },
  {
   "cell_type": "code",
   "execution_count": 40,
   "id": "9d166a29",
   "metadata": {},
   "outputs": [
    {
     "name": "stdout",
     "output_type": "stream",
     "text": [
      "Enter the number of Fibonacci terms to generate: 20\n",
      "The first 20 Fibonacci numbers are:\n",
      "[0, 1, 1, 2, 3, 5, 8, 13, 21, 34, 55, 89, 144, 233, 377, 610, 987, 1597, 2584, 4181, 6765]\n"
     ]
    }
   ],
   "source": [
    "def generate_fibonacci(n):\n",
    "    fibonacci_sequence = [0, 1]\n",
    "\n",
    "    while len(fibonacci_sequence) <= n:\n",
    "        next_fibonacci = fibonacci_sequence[-1] + fibonacci_sequence[-2]\n",
    "        fibonacci_sequence.append(next_fibonacci)\n",
    "\n",
    "    return fibonacci_sequence[:n + 1]\n",
    "\n",
    "if __name__ == \"__main__\":\n",
    "    try:\n",
    "        term = int(input(\"Enter the number of Fibonacci terms to generate: \"))\n",
    "\n",
    "        if term < 0:\n",
    "            print(\"Please enter a non-negative integer.\")\n",
    "        else:\n",
    "            fibonacci_sequence = generate_fibonacci(term)\n",
    "            print(f\"The first {term} Fibonacci numbers are:\")\n",
    "            print(fibonacci_sequence)\n",
    "\n",
    "    except ValueError:\n",
    "        print(\"Invalid input. Please enter a valid integer.\")\n"
   ]
  },
  {
   "cell_type": "markdown",
   "id": "585b5260",
   "metadata": {},
   "source": [
    "37. Develop a program that calculates the nth term of the Fibonacci sequence using memoization."
   ]
  },
  {
   "cell_type": "code",
   "execution_count": 42,
   "id": "874222b9",
   "metadata": {},
   "outputs": [
    {
     "name": "stdout",
     "output_type": "stream",
     "text": [
      "Enter the term of the Fibonacci sequence to calculate: 20\n",
      "The 20th term of the Fibonacci sequence is: 6765\n"
     ]
    }
   ],
   "source": [
    "def fibonacci_with_memoization(n, memo={}):\n",
    "    if n <= 1:\n",
    "        return n\n",
    "\n",
    "    if n not in memo:\n",
    "        memo[n] = fibonacci_with_memoization(n-1, memo) + fibonacci_with_memoization(n-2, memo)\n",
    "\n",
    "    return memo[n]\n",
    "\n",
    "if __name__ == \"__main__\":\n",
    "    try:\n",
    "        term = int(input(\"Enter the term of the Fibonacci sequence to calculate: \"))\n",
    "\n",
    "        if term < 0:\n",
    "            print(\"Please enter a non-negative integer.\")\n",
    "        else:\n",
    "            result = fibonacci_with_memoization(term)\n",
    "            print(f\"The {term}th term of the Fibonacci sequence is: {result}\")\n",
    "\n",
    "    except ValueError:\n",
    "        print(\"Invalid input. Please enter a valid integer.\")\n",
    "\n",
    "        "
   ]
  },
  {
   "cell_type": "markdown",
   "id": "cf50d6ed",
   "metadata": {},
   "source": [
    "38. Create a program that generates a calendar for a given month and year using conditional statements."
   ]
  },
  {
   "cell_type": "code",
   "execution_count": 43,
   "id": "ce67cee6",
   "metadata": {},
   "outputs": [
    {
     "name": "stdout",
     "output_type": "stream",
     "text": [
      "Enter the year: 2023\n",
      "Enter the month (1-12): 11\n",
      "Calendar for November 2023:\n",
      "\n",
      "   November 2023\n",
      "Mo Tu We Th Fr Sa Su\n",
      "       1  2  3  4  5\n",
      " 6  7  8  9 10 11 12\n",
      "13 14 15 16 17 18 19\n",
      "20 21 22 23 24 25 26\n",
      "27 28 29 30\n",
      "\n"
     ]
    }
   ],
   "source": [
    "import calendar\n",
    "\n",
    "def generate_calendar(year, month):\n",
    "    cal = calendar.month(year, month)\n",
    "    return cal\n",
    "\n",
    "if __name__ == \"__main__\":\n",
    "    try:\n",
    "        year = int(input(\"Enter the year: \"))\n",
    "        month = int(input(\"Enter the month (1-12): \"))\n",
    "\n",
    "        if 1 <= month <= 12:\n",
    "            calendar_output = generate_calendar(year, month)\n",
    "            print(f\"Calendar for {calendar.month_name[month]} {year}:\\n\")\n",
    "            print(calendar_output)\n",
    "        else:\n",
    "            print(\"Invalid month. Please enter a number between 1 and 12.\")\n",
    "    except ValueError:\n",
    "        print(\"Invalid input. Please enter valid integers.\")\n"
   ]
  },
  {
   "cell_type": "markdown",
   "id": "cb28da1e",
   "metadata": {},
   "source": [
    "39. Build a program that simulates a basic text-based blackjack game against the computer."
   ]
  },
  {
   "cell_type": "code",
   "execution_count": 46,
   "id": "229779c5",
   "metadata": {},
   "outputs": [
    {
     "name": "stdout",
     "output_type": "stream",
     "text": [
      "Welcome to Blackjack!\n",
      "\n",
      "\n",
      "Player's Hand:\n",
      "Five of Hearts\n",
      "Ace of Clubs\n",
      "\n",
      "Do you want to play a hand? (y/n): y\n",
      "\n",
      "Player's Hand:\n",
      "Five of Hearts\n",
      "Ace of Clubs\n",
      "Total Value: 16\n",
      "\n",
      "Do you want to hit or stand? (h/s): h\n",
      "\n",
      "Player's Hand:\n",
      "Five of Hearts\n",
      "Ace of Clubs\n",
      "Two of Diamonds\n",
      "Total Value: 18\n",
      "\n",
      "Do you want to hit or stand? (h/s): s\n",
      "\n",
      "Computer's Hand:\n",
      "Nine of Clubs\n",
      "Six of Clubs\n",
      "Jack of Clubs\n",
      "Total Value: 25\n",
      "Computer busts! You win.\n"
     ]
    },
    {
     "ename": "KeyboardInterrupt",
     "evalue": "Interrupted by user",
     "output_type": "error",
     "traceback": [
      "\u001b[1;31m---------------------------------------------------------------------------\u001b[0m",
      "\u001b[1;31mKeyboardInterrupt\u001b[0m                         Traceback (most recent call last)",
      "Input \u001b[1;32mIn [46]\u001b[0m, in \u001b[0;36m<cell line: 71>\u001b[1;34m()\u001b[0m\n\u001b[0;32m    101\u001b[0m     \u001b[38;5;28mprint\u001b[39m(determine_winner(player_hand, computer_hand))\n\u001b[0;32m    103\u001b[0m \u001b[38;5;28;01mwhile\u001b[39;00m \u001b[38;5;28;01mTrue\u001b[39;00m:\n\u001b[1;32m--> 104\u001b[0m     action \u001b[38;5;241m=\u001b[39m \u001b[38;5;28;43minput\u001b[39;49m\u001b[43m(\u001b[49m\u001b[38;5;124;43m\"\u001b[39;49m\u001b[38;5;130;43;01m\\n\u001b[39;49;00m\u001b[38;5;124;43mDo you want to play another hand? (y/n): \u001b[39;49m\u001b[38;5;124;43m\"\u001b[39;49m\u001b[43m)\u001b[49m\u001b[38;5;241m.\u001b[39mlower()\n\u001b[0;32m    106\u001b[0m     \u001b[38;5;28;01mif\u001b[39;00m action \u001b[38;5;241m==\u001b[39m \u001b[38;5;124m'\u001b[39m\u001b[38;5;124my\u001b[39m\u001b[38;5;124m'\u001b[39m:\n\u001b[0;32m    107\u001b[0m         \u001b[38;5;28;01mbreak\u001b[39;00m\n",
      "File \u001b[1;32m~\\anaconda3\\lib\\site-packages\\ipykernel\\kernelbase.py:1075\u001b[0m, in \u001b[0;36mKernel.raw_input\u001b[1;34m(self, prompt)\u001b[0m\n\u001b[0;32m   1071\u001b[0m \u001b[38;5;28;01mif\u001b[39;00m \u001b[38;5;129;01mnot\u001b[39;00m \u001b[38;5;28mself\u001b[39m\u001b[38;5;241m.\u001b[39m_allow_stdin:\n\u001b[0;32m   1072\u001b[0m     \u001b[38;5;28;01mraise\u001b[39;00m StdinNotImplementedError(\n\u001b[0;32m   1073\u001b[0m         \u001b[38;5;124m\"\u001b[39m\u001b[38;5;124mraw_input was called, but this frontend does not support input requests.\u001b[39m\u001b[38;5;124m\"\u001b[39m\n\u001b[0;32m   1074\u001b[0m     )\n\u001b[1;32m-> 1075\u001b[0m \u001b[38;5;28;01mreturn\u001b[39;00m \u001b[38;5;28;43mself\u001b[39;49m\u001b[38;5;241;43m.\u001b[39;49m\u001b[43m_input_request\u001b[49m\u001b[43m(\u001b[49m\n\u001b[0;32m   1076\u001b[0m \u001b[43m    \u001b[49m\u001b[38;5;28;43mstr\u001b[39;49m\u001b[43m(\u001b[49m\u001b[43mprompt\u001b[49m\u001b[43m)\u001b[49m\u001b[43m,\u001b[49m\n\u001b[0;32m   1077\u001b[0m \u001b[43m    \u001b[49m\u001b[38;5;28;43mself\u001b[39;49m\u001b[38;5;241;43m.\u001b[39;49m\u001b[43m_parent_ident\u001b[49m\u001b[43m[\u001b[49m\u001b[38;5;124;43m\"\u001b[39;49m\u001b[38;5;124;43mshell\u001b[39;49m\u001b[38;5;124;43m\"\u001b[39;49m\u001b[43m]\u001b[49m\u001b[43m,\u001b[49m\n\u001b[0;32m   1078\u001b[0m \u001b[43m    \u001b[49m\u001b[38;5;28;43mself\u001b[39;49m\u001b[38;5;241;43m.\u001b[39;49m\u001b[43mget_parent\u001b[49m\u001b[43m(\u001b[49m\u001b[38;5;124;43m\"\u001b[39;49m\u001b[38;5;124;43mshell\u001b[39;49m\u001b[38;5;124;43m\"\u001b[39;49m\u001b[43m)\u001b[49m\u001b[43m,\u001b[49m\n\u001b[0;32m   1079\u001b[0m \u001b[43m    \u001b[49m\u001b[43mpassword\u001b[49m\u001b[38;5;241;43m=\u001b[39;49m\u001b[38;5;28;43;01mFalse\u001b[39;49;00m\u001b[43m,\u001b[49m\n\u001b[0;32m   1080\u001b[0m \u001b[43m\u001b[49m\u001b[43m)\u001b[49m\n",
      "File \u001b[1;32m~\\anaconda3\\lib\\site-packages\\ipykernel\\kernelbase.py:1120\u001b[0m, in \u001b[0;36mKernel._input_request\u001b[1;34m(self, prompt, ident, parent, password)\u001b[0m\n\u001b[0;32m   1117\u001b[0m             \u001b[38;5;28;01mbreak\u001b[39;00m\n\u001b[0;32m   1118\u001b[0m \u001b[38;5;28;01mexcept\u001b[39;00m \u001b[38;5;167;01mKeyboardInterrupt\u001b[39;00m:\n\u001b[0;32m   1119\u001b[0m     \u001b[38;5;66;03m# re-raise KeyboardInterrupt, to truncate traceback\u001b[39;00m\n\u001b[1;32m-> 1120\u001b[0m     \u001b[38;5;28;01mraise\u001b[39;00m \u001b[38;5;167;01mKeyboardInterrupt\u001b[39;00m(\u001b[38;5;124m\"\u001b[39m\u001b[38;5;124mInterrupted by user\u001b[39m\u001b[38;5;124m\"\u001b[39m) \u001b[38;5;28;01mfrom\u001b[39;00m \u001b[38;5;28mNone\u001b[39m\n\u001b[0;32m   1121\u001b[0m \u001b[38;5;28;01mexcept\u001b[39;00m \u001b[38;5;167;01mException\u001b[39;00m:\n\u001b[0;32m   1122\u001b[0m     \u001b[38;5;28mself\u001b[39m\u001b[38;5;241m.\u001b[39mlog\u001b[38;5;241m.\u001b[39mwarning(\u001b[38;5;124m\"\u001b[39m\u001b[38;5;124mInvalid Message:\u001b[39m\u001b[38;5;124m\"\u001b[39m, exc_info\u001b[38;5;241m=\u001b[39m\u001b[38;5;28;01mTrue\u001b[39;00m)\n",
      "\u001b[1;31mKeyboardInterrupt\u001b[0m: Interrupted by user"
     ]
    }
   ],
   "source": [
    "import random\n",
    "\n",
    "# Define the deck of cards\n",
    "suits = ['Hearts', 'Diamonds', 'Clubs', 'Spades']\n",
    "ranks = ['Two', 'Three', 'Four', 'Five', 'Six', 'Seven', 'Eight', 'Nine', 'Ten', 'Jack', 'Queen', 'King', 'Ace']\n",
    "\n",
    "# Define card values\n",
    "card_values = {'Two': 2, 'Three': 3, 'Four': 4, 'Five': 5, 'Six': 6, 'Seven': 7, 'Eight': 8, 'Nine': 9, 'Ten': 10,\n",
    "               'Jack': 10, 'Queen': 10, 'King': 10, 'Ace': 11}\n",
    "\n",
    "def get_new_deck():\n",
    "    deck = [(rank, suit) for suit in suits for rank in ranks]\n",
    "    random.shuffle(deck)\n",
    "    return deck\n",
    "\n",
    "def get_card_value(card):\n",
    "    return card_values[card[0]]\n",
    "\n",
    "def display_hand(hand):\n",
    "    for card in hand:\n",
    "        print(f\"{card[0]} of {card[1]}\")\n",
    "\n",
    "def calculate_hand_value(hand):\n",
    "    value = sum(get_card_value(card) for card in hand)\n",
    "    aces = [card for card in hand if card[0] == 'Ace']\n",
    "\n",
    "    for ace in aces:\n",
    "        if value > 21:\n",
    "            value -= 10\n",
    "\n",
    "    return value\n",
    "\n",
    "def player_turn(deck, player_hand):\n",
    "    while True:\n",
    "        print(\"\\nPlayer's Hand:\")\n",
    "        display_hand(player_hand)\n",
    "        print(f\"Total Value: {calculate_hand_value(player_hand)}\")\n",
    "\n",
    "        if calculate_hand_value(player_hand) > 21:\n",
    "            print(\"\\nBusted! You lose.\")\n",
    "            return False\n",
    "\n",
    "        action = input(\"\\nDo you want to hit or stand? (h/s): \").lower()\n",
    "\n",
    "        if action == 'h':\n",
    "            player_hand.append(deck.pop())\n",
    "        elif action == 's':\n",
    "            return True\n",
    "        else:\n",
    "            print(\"Invalid input. Please enter 'h' to hit or 's' to stand.\")\n",
    "\n",
    "def computer_turn(deck, computer_hand):\n",
    "    while calculate_hand_value(computer_hand) < 17:\n",
    "        computer_hand.append(deck.pop())\n",
    "\n",
    "def determine_winner(player_hand, computer_hand):\n",
    "    player_value = calculate_hand_value(player_hand)\n",
    "    computer_value = calculate_hand_value(computer_hand)\n",
    "\n",
    "    if player_value > 21:\n",
    "        return \"Player busts! You lose.\"\n",
    "    elif computer_value > 21:\n",
    "        return \"Computer busts! You win.\"\n",
    "    elif player_value > computer_value:\n",
    "        return \"You win!\"\n",
    "    elif player_value < computer_value:\n",
    "        return \"You lose.\"\n",
    "    else:\n",
    "        return \"It's a tie!\"\n",
    "\n",
    "if __name__ == \"__main__\":\n",
    "    print(\"Welcome to Blackjack!\\n\")\n",
    "\n",
    "    while True:\n",
    "        deck = get_new_deck()\n",
    "        player_hand = [deck.pop(), deck.pop()]\n",
    "        computer_hand = [deck.pop(), deck.pop()]\n",
    "\n",
    "        print(\"\\nPlayer's Hand:\")\n",
    "        display_hand(player_hand)\n",
    "\n",
    "        while True:\n",
    "            action = input(\"\\nDo you want to play a hand? (y/n): \").lower()\n",
    "\n",
    "            if action == 'y':\n",
    "                break\n",
    "            elif action == 'n':\n",
    "                exit()\n",
    "            else:\n",
    "                print(\"Invalid input. Please enter 'y' to play a hand or 'n' to quit.\")\n",
    "\n",
    "        player_result = player_turn(deck, player_hand)\n",
    "\n",
    "        if player_result:\n",
    "            computer_turn(deck, computer_hand)\n",
    "\n",
    "            print(\"\\nComputer's Hand:\")\n",
    "            display_hand(computer_hand)\n",
    "            print(f\"Total Value: {calculate_hand_value(computer_hand)}\")\n",
    "\n",
    "            print(determine_winner(player_hand, computer_hand))\n",
    "\n",
    "        while True:\n",
    "            action = input(\"\\nDo you want to play another hand? (y/n): \").lower()\n",
    "\n",
    "            if action == 'y':\n",
    "                break\n",
    "            elif action == 'n':\n",
    "                exit()\n",
    "            else:\n",
    "                print(\"Invalid input. Please enter 'y' to play another hand or 'n' to quit.\")\n"
   ]
  },
  {
   "cell_type": "markdown",
   "id": "d122e11e",
   "metadata": {},
   "source": [
    "40. Write a program that generates the prime factors of a given number using trial division."
   ]
  },
  {
   "cell_type": "code",
   "execution_count": 47,
   "id": "4daf7826",
   "metadata": {},
   "outputs": [
    {
     "name": "stdout",
     "output_type": "stream",
     "text": [
      "Enter a number to find its prime factors: 24\n",
      "The prime factors of 24 are: [2, 2, 2, 3]\n"
     ]
    }
   ],
   "source": [
    "def generate_prime_factors(n):\n",
    "    factors = []\n",
    "\n",
    "    # Divide by 2 as many times as possible\n",
    "    while n % 2 == 0:\n",
    "        factors.append(2)\n",
    "        n //= 2\n",
    "\n",
    "    # Divide by odd numbers starting from 3\n",
    "    for i in range(3, int(n**0.5) + 1, 2):\n",
    "        while n % i == 0:\n",
    "            factors.append(i)\n",
    "            n //= i\n",
    "\n",
    "    # If n is a prime greater than 2\n",
    "    if n > 2:\n",
    "        factors.append(n)\n",
    "\n",
    "    return factors\n",
    "\n",
    "if __name__ == \"__main__\":\n",
    "    try:\n",
    "        num = int(input(\"Enter a number to find its prime factors: \"))\n",
    "\n",
    "        if num < 2:\n",
    "            print(\"Please enter a number greater than or equal to 2.\")\n",
    "        else:\n",
    "            prime_factors = generate_prime_factors(num)\n",
    "            print(f\"The prime factors of {num} are: {prime_factors}\")\n",
    "\n",
    "    except ValueError:\n",
    "        print(\"Invalid input. Please enter a valid integer.\")\n"
   ]
  },
  {
   "cell_type": "code",
   "execution_count": null,
   "id": "c43dc3cd",
   "metadata": {},
   "outputs": [],
   "source": []
  }
 ],
 "metadata": {
  "kernelspec": {
   "display_name": "Python 3 (ipykernel)",
   "language": "python",
   "name": "python3"
  },
  "language_info": {
   "codemirror_mode": {
    "name": "ipython",
    "version": 3
   },
   "file_extension": ".py",
   "mimetype": "text/x-python",
   "name": "python",
   "nbconvert_exporter": "python",
   "pygments_lexer": "ipython3",
   "version": "3.9.12"
  }
 },
 "nbformat": 4,
 "nbformat_minor": 5
}
